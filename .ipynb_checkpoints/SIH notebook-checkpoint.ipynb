{
 "cells": [
  {
   "cell_type": "markdown",
   "id": "9c7155be-0cdf-4821-8a02-85a88dd062c4",
   "metadata": {},
   "source": [
    "# Importing the Libraries"
   ]
  },
  {
   "cell_type": "code",
   "execution_count": 73,
   "id": "cde84a16-c256-4325-95c3-83ad67e777de",
   "metadata": {},
   "outputs": [],
   "source": [
    "import numpy as np\n",
    "import pandas as pd"
   ]
  },
  {
   "cell_type": "markdown",
   "id": "30c2996c-4d84-433d-b74f-d0ef9def645f",
   "metadata": {},
   "source": [
    "# Importing the Dataset"
   ]
  },
  {
   "cell_type": "code",
   "execution_count": 75,
   "id": "cb478e1f-4fb0-4b97-8d5e-d40602857ab8",
   "metadata": {},
   "outputs": [],
   "source": [
    "dataset = pd.read_excel('Motor Dataset.xlsx')\n",
    "X = dataset.iloc[:, :-1].values\n",
    "y = dataset.iloc[:, -1].values"
   ]
  },
  {
   "cell_type": "code",
   "execution_count": 77,
   "id": "1696ffce-456b-4844-8f22-d14f21071afa",
   "metadata": {},
   "outputs": [
    {
     "data": {
      "text/plain": [
       "array([[  1. , 100. ,  50. , 100. ],\n",
       "       [  1. , 200. ,  50. , 100. ],\n",
       "       [  2. , 300. ,  50. , 100. ],\n",
       "       [  3. , 300. ,  60. , 150. ],\n",
       "       [  3. , 400. ,  60. , 150. ],\n",
       "       [  4. , 200. ,  45. , 100. ],\n",
       "       [  4. , 350. ,  60. , 125. ],\n",
       "       [  5. , 440. ,  60. , 300. ],\n",
       "       [  1. , 100. ,  50. , 100. ],\n",
       "       [  1. , 200. ,  50. , 100. ],\n",
       "       [  2. , 300. ,  50. , 100. ],\n",
       "       [  3. , 300. ,  60. , 150. ],\n",
       "       [  3. , 400. ,  60. , 150. ],\n",
       "       [  4. , 200. ,  45. , 100. ],\n",
       "       [  4. , 350. ,  60. , 125. ],\n",
       "       [  5. , 440. ,  60. , 300. ],\n",
       "       [  1. , 100. ,  50. , 100. ],\n",
       "       [  1. , 200. ,  50. , 100. ],\n",
       "       [  2. , 300. ,  50. , 100. ],\n",
       "       [  3. , 300. ,  60. , 150. ],\n",
       "       [  3. , 400. ,  60. , 150. ],\n",
       "       [  4. , 200. ,  45. , 100. ],\n",
       "       [  4. , 350. ,  60. , 125. ],\n",
       "       [  5. , 440. ,  60. , 300. ],\n",
       "       [  2. , 500. , 100. , 100. ],\n",
       "       [  3. , 500. , 120. , 100. ],\n",
       "       [ 13. , 100. , 130. , 100. ],\n",
       "       [ 10. , 300. , 120. , 200. ],\n",
       "       [ 10. , 450. , 150. ,  50. ],\n",
       "       [  1.5,  10. , 120. ,  10. ],\n",
       "       [  5. ,  18. , 100. , 200. ],\n",
       "       [  2. , 500. , 100. , 100. ],\n",
       "       [  3. , 500. , 120. , 100. ],\n",
       "       [ 13. , 100. , 130. , 100. ],\n",
       "       [ 10. , 300. , 120. , 200. ],\n",
       "       [ 10. , 450. , 150. ,  50. ],\n",
       "       [  1.5,  10. , 120. ,  10. ],\n",
       "       [  5. ,  18. , 100. , 200. ],\n",
       "       [  2. , 500. , 100. , 100. ],\n",
       "       [  3. , 500. , 120. , 100. ],\n",
       "       [ 13. , 100. , 130. , 100. ],\n",
       "       [ 10. , 300. , 120. , 200. ],\n",
       "       [ 10. , 450. , 150. ,  50. ],\n",
       "       [  1.5,  10. , 120. ,  10. ],\n",
       "       [  5. ,  18. , 100. , 200. ]])"
      ]
     },
     "execution_count": 77,
     "metadata": {},
     "output_type": "execute_result"
    }
   ],
   "source": [
    "X"
   ]
  },
  {
   "cell_type": "code",
   "execution_count": 82,
   "id": "ccedbc56-552d-453d-b8b5-a2d08a4cd356",
   "metadata": {},
   "outputs": [
    {
     "data": {
      "text/plain": [
       "array(['No_Defect', 'No_Defect', 'No_Defect', 'No_Defect', 'No_Defect',\n",
       "       'No_Defect', 'No_Defect', 'No_Defect', 'No_Defect', 'No_Defect',\n",
       "       'No_Defect', 'No_Defect', 'No_Defect', 'No_Defect', 'No_Defect',\n",
       "       'No_Defect', 'No_Defect', 'No_Defect', 'No_Defect', 'No_Defect',\n",
       "       'No_Defect', 'No_Defect', 'No_Defect', 'No_Defect', 'Defect',\n",
       "       'Defect', 'Defect', 'Defect', 'Defect', 'Defect', 'Defect',\n",
       "       'Defect', 'Defect', 'Defect', 'Defect', 'Defect', 'Defect',\n",
       "       'Defect', 'Defect', 'Defect', 'Defect', 'Defect', 'Defect',\n",
       "       'Defect', 'Defect'], dtype=object)"
      ]
     },
     "execution_count": 82,
     "metadata": {},
     "output_type": "execute_result"
    }
   ],
   "source": [
    "y"
   ]
  },
  {
   "cell_type": "markdown",
   "id": "d6b9126e-ae32-488f-9acf-2ef80989e740",
   "metadata": {},
   "source": [
    "# Splitting the dataset into Training set and Test set"
   ]
  },
  {
   "cell_type": "code",
   "execution_count": 85,
   "id": "fe8e0ef3-8ec0-4ed3-89d3-283fb6cf2802",
   "metadata": {},
   "outputs": [],
   "source": [
    "from sklearn.model_selection import train_test_split\n",
    "X_train, X_test, y_train, y_test = train_test_split(X, y, test_size = 0.25, random_state = 0)"
   ]
  },
  {
   "cell_type": "code",
   "execution_count": 87,
   "id": "5c2b585e-010b-4e1b-8e2b-5c4389f57287",
   "metadata": {},
   "outputs": [
    {
     "data": {
      "text/plain": [
       "array([[ 10. , 300. , 120. , 200. ],\n",
       "       [  2. , 300. ,  50. , 100. ],\n",
       "       [  1.5,  10. , 120. ,  10. ],\n",
       "       [  2. , 300. ,  50. , 100. ],\n",
       "       [  5. , 440. ,  60. , 300. ],\n",
       "       [  4. , 350. ,  60. , 125. ],\n",
       "       [  1. , 100. ,  50. , 100. ],\n",
       "       [ 13. , 100. , 130. , 100. ],\n",
       "       [  1. , 100. ,  50. , 100. ],\n",
       "       [  4. , 200. ,  45. , 100. ],\n",
       "       [  4. , 200. ,  45. , 100. ],\n",
       "       [  1. , 200. ,  50. , 100. ],\n",
       "       [  3. , 500. , 120. , 100. ],\n",
       "       [  4. , 350. ,  60. , 125. ],\n",
       "       [ 10. , 450. , 150. ,  50. ],\n",
       "       [  5. , 440. ,  60. , 300. ],\n",
       "       [ 10. , 300. , 120. , 200. ],\n",
       "       [  1. , 200. ,  50. , 100. ],\n",
       "       [ 13. , 100. , 130. , 100. ],\n",
       "       [  3. , 400. ,  60. , 150. ],\n",
       "       [ 13. , 100. , 130. , 100. ],\n",
       "       [  2. , 500. , 100. , 100. ],\n",
       "       [  4. , 350. ,  60. , 125. ],\n",
       "       [  5. , 440. ,  60. , 300. ],\n",
       "       [  1.5,  10. , 120. ,  10. ],\n",
       "       [  4. , 200. ,  45. , 100. ],\n",
       "       [  3. , 300. ,  60. , 150. ],\n",
       "       [  1. , 200. ,  50. , 100. ],\n",
       "       [  3. , 500. , 120. , 100. ],\n",
       "       [ 10. , 450. , 150. ,  50. ],\n",
       "       [  3. , 300. ,  60. , 150. ],\n",
       "       [  1. , 100. ,  50. , 100. ],\n",
       "       [  5. ,  18. , 100. , 200. ]])"
      ]
     },
     "execution_count": 87,
     "metadata": {},
     "output_type": "execute_result"
    }
   ],
   "source": [
    "X_train"
   ]
  },
  {
   "cell_type": "code",
   "execution_count": 89,
   "id": "20404e9c-b4e2-48ba-af5c-c4f1e1be9a85",
   "metadata": {},
   "outputs": [
    {
     "data": {
      "text/plain": [
       "array(['Defect', 'No_Defect', 'Defect', 'No_Defect', 'No_Defect',\n",
       "       'No_Defect', 'No_Defect', 'Defect', 'No_Defect', 'No_Defect',\n",
       "       'No_Defect', 'No_Defect', 'Defect', 'No_Defect', 'Defect',\n",
       "       'No_Defect', 'Defect', 'No_Defect', 'Defect', 'No_Defect',\n",
       "       'Defect', 'Defect', 'No_Defect', 'No_Defect', 'Defect',\n",
       "       'No_Defect', 'No_Defect', 'No_Defect', 'Defect', 'Defect',\n",
       "       'No_Defect', 'No_Defect', 'Defect'], dtype=object)"
      ]
     },
     "execution_count": 89,
     "metadata": {},
     "output_type": "execute_result"
    }
   ],
   "source": [
    "y_train"
   ]
  },
  {
   "cell_type": "markdown",
   "id": "e938552d-02c4-4e70-bb27-c80ceba5c2a0",
   "metadata": {},
   "source": [
    "# Feature Scaling"
   ]
  },
  {
   "cell_type": "code",
   "execution_count": 92,
   "id": "e22ebbc4-d388-417b-a663-ecdf882bf487",
   "metadata": {},
   "outputs": [],
   "source": [
    "from sklearn.preprocessing import StandardScaler\n",
    "sc = StandardScaler()\n",
    "X_train = sc.fit_transform(X_train)\n",
    "X_test = sc.transform(X_test)"
   ]
  },
  {
   "cell_type": "markdown",
   "id": "20ab8e5e-1d3f-4d5d-8eea-9f914fcbc21a",
   "metadata": {},
   "source": [
    "# Random Forest Classifier"
   ]
  },
  {
   "cell_type": "code",
   "execution_count": 95,
   "id": "566a527f-93e2-4ab3-9716-eb70f9729f32",
   "metadata": {},
   "outputs": [
    {
     "data": {
      "text/html": [
       "<style>#sk-container-id-2 {color: black;background-color: white;}#sk-container-id-2 pre{padding: 0;}#sk-container-id-2 div.sk-toggleable {background-color: white;}#sk-container-id-2 label.sk-toggleable__label {cursor: pointer;display: block;width: 100%;margin-bottom: 0;padding: 0.3em;box-sizing: border-box;text-align: center;}#sk-container-id-2 label.sk-toggleable__label-arrow:before {content: \"▸\";float: left;margin-right: 0.25em;color: #696969;}#sk-container-id-2 label.sk-toggleable__label-arrow:hover:before {color: black;}#sk-container-id-2 div.sk-estimator:hover label.sk-toggleable__label-arrow:before {color: black;}#sk-container-id-2 div.sk-toggleable__content {max-height: 0;max-width: 0;overflow: hidden;text-align: left;background-color: #f0f8ff;}#sk-container-id-2 div.sk-toggleable__content pre {margin: 0.2em;color: black;border-radius: 0.25em;background-color: #f0f8ff;}#sk-container-id-2 input.sk-toggleable__control:checked~div.sk-toggleable__content {max-height: 200px;max-width: 100%;overflow: auto;}#sk-container-id-2 input.sk-toggleable__control:checked~label.sk-toggleable__label-arrow:before {content: \"▾\";}#sk-container-id-2 div.sk-estimator input.sk-toggleable__control:checked~label.sk-toggleable__label {background-color: #d4ebff;}#sk-container-id-2 div.sk-label input.sk-toggleable__control:checked~label.sk-toggleable__label {background-color: #d4ebff;}#sk-container-id-2 input.sk-hidden--visually {border: 0;clip: rect(1px 1px 1px 1px);clip: rect(1px, 1px, 1px, 1px);height: 1px;margin: -1px;overflow: hidden;padding: 0;position: absolute;width: 1px;}#sk-container-id-2 div.sk-estimator {font-family: monospace;background-color: #f0f8ff;border: 1px dotted black;border-radius: 0.25em;box-sizing: border-box;margin-bottom: 0.5em;}#sk-container-id-2 div.sk-estimator:hover {background-color: #d4ebff;}#sk-container-id-2 div.sk-parallel-item::after {content: \"\";width: 100%;border-bottom: 1px solid gray;flex-grow: 1;}#sk-container-id-2 div.sk-label:hover label.sk-toggleable__label {background-color: #d4ebff;}#sk-container-id-2 div.sk-serial::before {content: \"\";position: absolute;border-left: 1px solid gray;box-sizing: border-box;top: 0;bottom: 0;left: 50%;z-index: 0;}#sk-container-id-2 div.sk-serial {display: flex;flex-direction: column;align-items: center;background-color: white;padding-right: 0.2em;padding-left: 0.2em;position: relative;}#sk-container-id-2 div.sk-item {position: relative;z-index: 1;}#sk-container-id-2 div.sk-parallel {display: flex;align-items: stretch;justify-content: center;background-color: white;position: relative;}#sk-container-id-2 div.sk-item::before, #sk-container-id-2 div.sk-parallel-item::before {content: \"\";position: absolute;border-left: 1px solid gray;box-sizing: border-box;top: 0;bottom: 0;left: 50%;z-index: -1;}#sk-container-id-2 div.sk-parallel-item {display: flex;flex-direction: column;z-index: 1;position: relative;background-color: white;}#sk-container-id-2 div.sk-parallel-item:first-child::after {align-self: flex-end;width: 50%;}#sk-container-id-2 div.sk-parallel-item:last-child::after {align-self: flex-start;width: 50%;}#sk-container-id-2 div.sk-parallel-item:only-child::after {width: 0;}#sk-container-id-2 div.sk-dashed-wrapped {border: 1px dashed gray;margin: 0 0.4em 0.5em 0.4em;box-sizing: border-box;padding-bottom: 0.4em;background-color: white;}#sk-container-id-2 div.sk-label label {font-family: monospace;font-weight: bold;display: inline-block;line-height: 1.2em;}#sk-container-id-2 div.sk-label-container {text-align: center;}#sk-container-id-2 div.sk-container {/* jupyter's `normalize.less` sets `[hidden] { display: none; }` but bootstrap.min.css set `[hidden] { display: none !important; }` so we also need the `!important` here to be able to override the default hidden behavior on the sphinx rendered scikit-learn.org. See: https://github.com/scikit-learn/scikit-learn/issues/21755 */display: inline-block !important;position: relative;}#sk-container-id-2 div.sk-text-repr-fallback {display: none;}</style><div id=\"sk-container-id-2\" class=\"sk-top-container\"><div class=\"sk-text-repr-fallback\"><pre>RandomForestClassifier(criterion=&#x27;entropy&#x27;, n_estimators=10, random_state=0)</pre><b>In a Jupyter environment, please rerun this cell to show the HTML representation or trust the notebook. <br />On GitHub, the HTML representation is unable to render, please try loading this page with nbviewer.org.</b></div><div class=\"sk-container\" hidden><div class=\"sk-item\"><div class=\"sk-estimator sk-toggleable\"><input class=\"sk-toggleable__control sk-hidden--visually\" id=\"sk-estimator-id-2\" type=\"checkbox\" checked><label for=\"sk-estimator-id-2\" class=\"sk-toggleable__label sk-toggleable__label-arrow\">RandomForestClassifier</label><div class=\"sk-toggleable__content\"><pre>RandomForestClassifier(criterion=&#x27;entropy&#x27;, n_estimators=10, random_state=0)</pre></div></div></div></div></div>"
      ],
      "text/plain": [
       "RandomForestClassifier(criterion='entropy', n_estimators=10, random_state=0)"
      ]
     },
     "execution_count": 95,
     "metadata": {},
     "output_type": "execute_result"
    }
   ],
   "source": [
    "from sklearn.ensemble import RandomForestClassifier\n",
    "classifier = RandomForestClassifier(n_estimators = 10, criterion = 'entropy', random_state = 0)\n",
    "classifier.fit(X_train, y_train)"
   ]
  },
  {
   "cell_type": "markdown",
   "id": "2bc97e55-a58d-4605-99cc-70b6e858aac4",
   "metadata": {},
   "source": [
    "# Predicting a new result"
   ]
  },
  {
   "cell_type": "code",
   "execution_count": 100,
   "id": "40cdd6f0-27d4-4606-b3ca-df25453b2470",
   "metadata": {},
   "outputs": [
    {
     "name": "stdout",
     "output_type": "stream",
     "text": [
      "['Defect']\n"
     ]
    }
   ],
   "source": [
    "print(classifier.predict(sc.transform([[10,200,100,50]])))"
   ]
  },
  {
   "cell_type": "markdown",
   "id": "d3e13f0d-f78b-4882-a7b2-442927e2b2c8",
   "metadata": {},
   "source": [
    "# Testing the accuracy of the Model"
   ]
  },
  {
   "cell_type": "code",
   "execution_count": 102,
   "id": "b76fc52b-d2aa-4449-8f78-ca10053ad059",
   "metadata": {},
   "outputs": [
    {
     "name": "stdout",
     "output_type": "stream",
     "text": [
      "[['Defect' 'Defect']\n",
      " ['Defect' 'Defect']\n",
      " ['Defect' 'Defect']\n",
      " ['No_Defect' 'No_Defect']\n",
      " ['No_Defect' 'No_Defect']\n",
      " ['Defect' 'Defect']\n",
      " ['Defect' 'Defect']\n",
      " ['No_Defect' 'No_Defect']\n",
      " ['Defect' 'Defect']\n",
      " ['Defect' 'Defect']\n",
      " ['Defect' 'Defect']\n",
      " ['No_Defect' 'No_Defect']]\n"
     ]
    }
   ],
   "source": [
    "y_pred = classifier.predict(X_test)\n",
    "print(np.concatenate((y_pred.reshape(len(y_pred),1), y_test.reshape(len(y_test),1)),1))"
   ]
  },
  {
   "cell_type": "code",
   "execution_count": 104,
   "id": "1cd0bd48-5e5c-4f59-8669-f66ac216ed44",
   "metadata": {},
   "outputs": [
    {
     "name": "stdout",
     "output_type": "stream",
     "text": [
      "[[8 0]\n",
      " [0 4]]\n"
     ]
    },
    {
     "data": {
      "text/plain": [
       "1.0"
      ]
     },
     "execution_count": 104,
     "metadata": {},
     "output_type": "execute_result"
    }
   ],
   "source": [
    "from sklearn.metrics import confusion_matrix, accuracy_score\n",
    "cm = confusion_matrix(y_test, y_pred)\n",
    "print(cm)\n",
    "accuracy_score(y_test, y_pred)"
   ]
  },
  {
   "cell_type": "code",
   "execution_count": null,
   "id": "5141ee31-62d6-42c2-8ff9-8837097fdcd0",
   "metadata": {},
   "outputs": [],
   "source": []
  }
 ],
 "metadata": {
  "kernelspec": {
   "display_name": "Python 3 (ipykernel)",
   "language": "python",
   "name": "python3"
  },
  "language_info": {
   "codemirror_mode": {
    "name": "ipython",
    "version": 3
   },
   "file_extension": ".py",
   "mimetype": "text/x-python",
   "name": "python",
   "nbconvert_exporter": "python",
   "pygments_lexer": "ipython3",
   "version": "3.11.7"
  }
 },
 "nbformat": 4,
 "nbformat_minor": 5
}
